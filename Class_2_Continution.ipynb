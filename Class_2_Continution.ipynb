{
  "nbformat": 4,
  "nbformat_minor": 0,
  "metadata": {
    "colab": {
      "provenance": [],
      "collapsed_sections": [],
      "authorship_tag": "ABX9TyOo5zEJsiTTCQTBNnhkDHJI",
      "include_colab_link": true
    },
    "kernelspec": {
      "name": "python3",
      "display_name": "Python 3"
    },
    "language_info": {
      "name": "python"
    }
  },
  "cells": [
    {
      "cell_type": "markdown",
      "metadata": {
        "id": "view-in-github",
        "colab_type": "text"
      },
      "source": [
        "<a href=\"https://colab.research.google.com/github/Sohini3018/MachineLearning/blob/main/Class_2_Continution.ipynb\" target=\"_parent\"><img src=\"https://colab.research.google.com/assets/colab-badge.svg\" alt=\"Open In Colab\"/></a>"
      ]
    },
    {
      "cell_type": "code",
      "execution_count": null,
      "metadata": {
        "id": "pBLrC497ZWmb"
      },
      "outputs": [],
      "source": [
        "import numpy as np"
      ]
    },
    {
      "cell_type": "code",
      "source": [
        "a=np.random.randint(10,100,(3,4))\n",
        "b=np.random.randint(10,100,(7,4))"
      ],
      "metadata": {
        "id": "v6Jk7Q24oyou"
      },
      "execution_count": null,
      "outputs": []
    },
    {
      "cell_type": "code",
      "source": [
        "a"
      ],
      "metadata": {
        "colab": {
          "base_uri": "https://localhost:8080/"
        },
        "id": "PN7plsNGpNx3",
        "outputId": "630f88d1-e63b-4d2a-a64e-20428ef72e04"
      },
      "execution_count": null,
      "outputs": [
        {
          "output_type": "execute_result",
          "data": {
            "text/plain": [
              "array([[60, 12, 77, 54],\n",
              "       [61, 31, 74, 15],\n",
              "       [66, 61, 52, 33]])"
            ]
          },
          "metadata": {},
          "execution_count": 4
        }
      ]
    },
    {
      "cell_type": "code",
      "source": [
        "b"
      ],
      "metadata": {
        "colab": {
          "base_uri": "https://localhost:8080/"
        },
        "id": "FznXD-5PpQ9M",
        "outputId": "0ecd3e1a-35ed-4168-ebc6-03694cb04154"
      },
      "execution_count": null,
      "outputs": [
        {
          "output_type": "execute_result",
          "data": {
            "text/plain": [
              "array([[24, 47, 93, 22],\n",
              "       [13, 55, 56, 15],\n",
              "       [85, 27, 43, 57],\n",
              "       [76, 38, 15, 88],\n",
              "       [75, 17, 75, 51],\n",
              "       [41, 13, 85, 79],\n",
              "       [71, 16, 67, 68]])"
            ]
          },
          "metadata": {},
          "execution_count": 5
        }
      ]
    },
    {
      "cell_type": "code",
      "source": [
        "c=np.vstack([a,b]) #Vertical Stacking"
      ],
      "metadata": {
        "id": "fMj1Z0GYpSpE"
      },
      "execution_count": null,
      "outputs": []
    },
    {
      "cell_type": "code",
      "source": [
        "c"
      ],
      "metadata": {
        "colab": {
          "base_uri": "https://localhost:8080/"
        },
        "id": "UEPvSgqkptGp",
        "outputId": "a4bb9b57-417c-4ebc-c4c2-18799ef8d5f3"
      },
      "execution_count": null,
      "outputs": [
        {
          "output_type": "execute_result",
          "data": {
            "text/plain": [
              "array([[60, 12, 77, 54],\n",
              "       [61, 31, 74, 15],\n",
              "       [66, 61, 52, 33],\n",
              "       [24, 47, 93, 22],\n",
              "       [13, 55, 56, 15],\n",
              "       [85, 27, 43, 57],\n",
              "       [76, 38, 15, 88],\n",
              "       [75, 17, 75, 51],\n",
              "       [41, 13, 85, 79],\n",
              "       [71, 16, 67, 68]])"
            ]
          },
          "metadata": {},
          "execution_count": 7
        }
      ]
    },
    {
      "cell_type": "code",
      "source": [
        "c.shape"
      ],
      "metadata": {
        "colab": {
          "base_uri": "https://localhost:8080/"
        },
        "id": "SOQszj6qpt7E",
        "outputId": "37237353-8656-4f68-9f37-0cdfdde8fc27"
      },
      "execution_count": null,
      "outputs": [
        {
          "output_type": "execute_result",
          "data": {
            "text/plain": [
              "(10, 4)"
            ]
          },
          "metadata": {},
          "execution_count": 8
        }
      ]
    },
    {
      "cell_type": "code",
      "source": [
        "d=np.r_[a,b]"
      ],
      "metadata": {
        "id": "G4QhXf5gpxln"
      },
      "execution_count": null,
      "outputs": []
    },
    {
      "cell_type": "code",
      "source": [
        "d"
      ],
      "metadata": {
        "colab": {
          "base_uri": "https://localhost:8080/"
        },
        "id": "jGX9Bp3sqYL5",
        "outputId": "337ec826-4df7-46ad-e21a-07f6e9614e86"
      },
      "execution_count": null,
      "outputs": [
        {
          "output_type": "execute_result",
          "data": {
            "text/plain": [
              "array([[60, 12, 77, 54],\n",
              "       [61, 31, 74, 15],\n",
              "       [66, 61, 52, 33],\n",
              "       [24, 47, 93, 22],\n",
              "       [13, 55, 56, 15],\n",
              "       [85, 27, 43, 57],\n",
              "       [76, 38, 15, 88],\n",
              "       [75, 17, 75, 51],\n",
              "       [41, 13, 85, 79],\n",
              "       [71, 16, 67, 68]])"
            ]
          },
          "metadata": {},
          "execution_count": 13
        }
      ]
    },
    {
      "cell_type": "code",
      "source": [
        "a=np.random.randint(10,100,(3,4))\n",
        "b=np.random.randint(10,100,(3,5))\n",
        "c=np.hstack([a,b])"
      ],
      "metadata": {
        "id": "8v9DGqA-q2-y"
      },
      "execution_count": null,
      "outputs": []
    },
    {
      "cell_type": "code",
      "source": [
        "a"
      ],
      "metadata": {
        "colab": {
          "base_uri": "https://localhost:8080/"
        },
        "id": "aN_EnVCvrNRJ",
        "outputId": "77036761-3817-40f9-f60e-dfdc6906c511"
      },
      "execution_count": null,
      "outputs": [
        {
          "output_type": "execute_result",
          "data": {
            "text/plain": [
              "array([[59, 48, 67, 40],\n",
              "       [31, 80, 48, 42],\n",
              "       [48, 53, 45, 75]])"
            ]
          },
          "metadata": {},
          "execution_count": 16
        }
      ]
    },
    {
      "cell_type": "code",
      "source": [
        "b"
      ],
      "metadata": {
        "colab": {
          "base_uri": "https://localhost:8080/"
        },
        "id": "TIFnF4XUrN_h",
        "outputId": "a8fd26be-951b-4562-d480-06d9a081b02b"
      },
      "execution_count": null,
      "outputs": [
        {
          "output_type": "execute_result",
          "data": {
            "text/plain": [
              "array([[44, 76, 32, 73, 23],\n",
              "       [52, 55, 75, 18, 99],\n",
              "       [15, 83, 61, 89, 63]])"
            ]
          },
          "metadata": {},
          "execution_count": 17
        }
      ]
    },
    {
      "cell_type": "code",
      "source": [
        "c"
      ],
      "metadata": {
        "colab": {
          "base_uri": "https://localhost:8080/"
        },
        "id": "Q9m8JG4HrRAv",
        "outputId": "86603118-cd0c-4de5-c4f5-0aa98ad781b9"
      },
      "execution_count": null,
      "outputs": [
        {
          "output_type": "execute_result",
          "data": {
            "text/plain": [
              "array([[59, 48, 67, 40, 44, 76, 32, 73, 23],\n",
              "       [31, 80, 48, 42, 52, 55, 75, 18, 99],\n",
              "       [48, 53, 45, 75, 15, 83, 61, 89, 63]])"
            ]
          },
          "metadata": {},
          "execution_count": 18
        }
      ]
    },
    {
      "cell_type": "code",
      "source": [
        "d=np.c_[a,b]\n",
        "d"
      ],
      "metadata": {
        "colab": {
          "base_uri": "https://localhost:8080/"
        },
        "id": "BohL479grRos",
        "outputId": "8331b0e0-f661-4875-d3cb-83468a5354fc"
      },
      "execution_count": null,
      "outputs": [
        {
          "output_type": "execute_result",
          "data": {
            "text/plain": [
              "array([[59, 48, 67, 40, 44, 76, 32, 73, 23],\n",
              "       [31, 80, 48, 42, 52, 55, 75, 18, 99],\n",
              "       [48, 53, 45, 75, 15, 83, 61, 89, 63]])"
            ]
          },
          "metadata": {},
          "execution_count": 20
        }
      ]
    }
  ]
}