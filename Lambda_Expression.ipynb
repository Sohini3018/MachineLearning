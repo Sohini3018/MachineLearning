{
  "nbformat": 4,
  "nbformat_minor": 0,
  "metadata": {
    "colab": {
      "provenance": [],
      "authorship_tag": "ABX9TyMQ7FmduCQ20yGUQ7Dn9LUZ",
      "include_colab_link": true
    },
    "kernelspec": {
      "name": "python3",
      "display_name": "Python 3"
    },
    "language_info": {
      "name": "python"
    }
  },
  "cells": [
    {
      "cell_type": "markdown",
      "metadata": {
        "id": "view-in-github",
        "colab_type": "text"
      },
      "source": [
        "<a href=\"https://colab.research.google.com/github/Sohini3018/MachineLearning/blob/main/Lambda_Expression.ipynb\" target=\"_parent\"><img src=\"https://colab.research.google.com/assets/colab-badge.svg\" alt=\"Open In Colab\"/></a>"
      ]
    },
    {
      "cell_type": "code",
      "execution_count": 2,
      "metadata": {
        "id": "oBLw4oc_rc7x"
      },
      "outputs": [],
      "source": [
        "f=lambda x : x if x>0 else -x"
      ]
    },
    {
      "cell_type": "code",
      "source": [
        "f(-12)"
      ],
      "metadata": {
        "colab": {
          "base_uri": "https://localhost:8080/"
        },
        "id": "aosO3H5yt7mO",
        "outputId": "f2182ba5-2c83-4347-c47b-3165a3945510"
      },
      "execution_count": 3,
      "outputs": [
        {
          "output_type": "execute_result",
          "data": {
            "text/plain": [
              "12"
            ]
          },
          "metadata": {},
          "execution_count": 3
        }
      ]
    },
    {
      "cell_type": "code",
      "source": [
        "a=[12,-5,7,13,-10,11,-9]"
      ],
      "metadata": {
        "id": "c5PM2WgLuBJc"
      },
      "execution_count": 4,
      "outputs": []
    },
    {
      "cell_type": "code",
      "source": [
        "map(f,a)"
      ],
      "metadata": {
        "id": "wmGzicxwuTBs"
      },
      "execution_count": null,
      "outputs": []
    }
  ]
}