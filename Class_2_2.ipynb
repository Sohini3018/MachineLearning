{
  "nbformat": 4,
  "nbformat_minor": 0,
  "metadata": {
    "colab": {
      "provenance": [],
      "collapsed_sections": [],
      "authorship_tag": "ABX9TyObwpn/QC7eVcyGja9V+hOo",
      "include_colab_link": true
    },
    "kernelspec": {
      "name": "python3",
      "display_name": "Python 3"
    },
    "language_info": {
      "name": "python"
    }
  },
  "cells": [
    {
      "cell_type": "markdown",
      "metadata": {
        "id": "view-in-github",
        "colab_type": "text"
      },
      "source": [
        "<a href=\"https://colab.research.google.com/github/Sohini3018/MachineLearning/blob/main/Class_2_2.ipynb\" target=\"_parent\"><img src=\"https://colab.research.google.com/assets/colab-badge.svg\" alt=\"Open In Colab\"/></a>"
      ]
    },
    {
      "cell_type": "code",
      "execution_count": null,
      "metadata": {
        "id": "rVbPR4hMtBih"
      },
      "outputs": [],
      "source": [
        "import numpy as np"
      ]
    },
    {
      "cell_type": "code",
      "source": [
        "a= np.random.randint(0,10,(7,5))\n",
        "a"
      ],
      "metadata": {
        "colab": {
          "base_uri": "https://localhost:8080/"
        },
        "id": "jyXRv6kKtMJS",
        "outputId": "925c07ce-ed84-46d9-b8f5-166108c9acc9"
      },
      "execution_count": null,
      "outputs": [
        {
          "output_type": "execute_result",
          "data": {
            "text/plain": [
              "array([[6, 8, 7, 5, 2],\n",
              "       [8, 2, 8, 8, 9],\n",
              "       [5, 0, 8, 9, 9],\n",
              "       [2, 4, 8, 6, 9],\n",
              "       [2, 9, 2, 1, 1],\n",
              "       [3, 8, 3, 2, 6],\n",
              "       [6, 9, 5, 5, 0]])"
            ]
          },
          "metadata": {},
          "execution_count": 2
        }
      ]
    },
    {
      "cell_type": "code",
      "source": [
        "np.sin(a)"
      ],
      "metadata": {
        "colab": {
          "base_uri": "https://localhost:8080/"
        },
        "id": "Lj5vMeUrt8ZO",
        "outputId": "1391e068-73d5-48fd-e10e-a53fa1d30374"
      },
      "execution_count": null,
      "outputs": [
        {
          "output_type": "execute_result",
          "data": {
            "text/plain": [
              "array([[-0.2794155 ,  0.98935825,  0.6569866 , -0.95892427,  0.90929743],\n",
              "       [ 0.98935825,  0.90929743,  0.98935825,  0.98935825,  0.41211849],\n",
              "       [-0.95892427,  0.        ,  0.98935825,  0.41211849,  0.41211849],\n",
              "       [ 0.90929743, -0.7568025 ,  0.98935825, -0.2794155 ,  0.41211849],\n",
              "       [ 0.90929743,  0.41211849,  0.90929743,  0.84147098,  0.84147098],\n",
              "       [ 0.14112001,  0.98935825,  0.14112001,  0.90929743, -0.2794155 ],\n",
              "       [-0.2794155 ,  0.41211849, -0.95892427, -0.95892427,  0.        ]])"
            ]
          },
          "metadata": {},
          "execution_count": 3
        }
      ]
    },
    {
      "cell_type": "code",
      "source": [
        "def factorial(n):\n",
        "  return 1 if n==0 else n * factorial(n-1)"
      ],
      "metadata": {
        "id": "o4SexB3XuFTk"
      },
      "execution_count": null,
      "outputs": []
    },
    {
      "cell_type": "code",
      "source": [
        "b=np.zeros_like(a)\n",
        "b"
      ],
      "metadata": {
        "colab": {
          "base_uri": "https://localhost:8080/"
        },
        "id": "QH_tmgo8vQFd",
        "outputId": "e53eb2a3-1a5c-47d1-adea-edfd3024e62d"
      },
      "execution_count": null,
      "outputs": [
        {
          "output_type": "execute_result",
          "data": {
            "text/plain": [
              "array([[0, 0, 0, 0, 0],\n",
              "       [0, 0, 0, 0, 0],\n",
              "       [0, 0, 0, 0, 0],\n",
              "       [0, 0, 0, 0, 0],\n",
              "       [0, 0, 0, 0, 0],\n",
              "       [0, 0, 0, 0, 0],\n",
              "       [0, 0, 0, 0, 0]])"
            ]
          },
          "metadata": {},
          "execution_count": 5
        }
      ]
    },
    {
      "cell_type": "code",
      "source": [
        "for i in range(len(a)):\n",
        "  for j in range(len(a[i])):\n",
        "    b[i][j]=factorial(a[i][j])"
      ],
      "metadata": {
        "id": "yaZVPABxv21v"
      },
      "execution_count": null,
      "outputs": []
    },
    {
      "cell_type": "code",
      "source": [
        "vec_fact=np.vectorize(factorial)"
      ],
      "metadata": {
        "id": "omkMuyojwL-O"
      },
      "execution_count": null,
      "outputs": []
    },
    {
      "cell_type": "code",
      "source": [
        "vec_fact(a)"
      ],
      "metadata": {
        "colab": {
          "base_uri": "https://localhost:8080/"
        },
        "id": "vdfRDMWUxxPB",
        "outputId": "20df92c5-beb8-4e49-efaf-831192677069"
      },
      "execution_count": null,
      "outputs": [
        {
          "output_type": "execute_result",
          "data": {
            "text/plain": [
              "array([[   720,  40320,   5040,    120,      2],\n",
              "       [ 40320,      2,  40320,  40320, 362880],\n",
              "       [   120,      1,  40320, 362880, 362880],\n",
              "       [     2,     24,  40320,    720, 362880],\n",
              "       [     2, 362880,      2,      1,      1],\n",
              "       [     6,  40320,      6,      2,    720],\n",
              "       [   720, 362880,    120,    120,      1]])"
            ]
          },
          "metadata": {},
          "execution_count": 8
        }
      ]
    }
  ]
}